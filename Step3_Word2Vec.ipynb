{
 "cells": [
  {
   "cell_type": "code",
   "execution_count": 1,
   "metadata": {},
   "outputs": [],
   "source": [
    "\"\"\"\n",
    "参考リスト\n",
    "https://radimrehurek.com/gensim/models/word2vec.html\n",
    "-> gensimの公式ドキュメントにおけるWord2Vecの使用方法\n",
    "http://m0t0k1ch1st0ry.com/blog/2016/08/28/word2vec/\n",
    "-> 上記を参考に老人と海を題材に使用、mecabのインストールは面倒なので形態素解析部分はJanomeに変更した\n",
    "\"\"\"\n",
    "import codecs\n",
    "from janome.tokenizer import Tokenizer\n",
    "from gensim.models import word2vec"
   ]
  },
  {
   "cell_type": "code",
   "execution_count": 2,
   "metadata": {},
   "outputs": [],
   "source": [
    "# split sentences into words(separated by white-space)\n",
    "text_space = \"\"\n",
    "t = Tokenizer()\n",
    "with codecs.open('files_step3/rojinto_umi.txt', 'r', 'utf-8') as f:\n",
    "    txt = f.read()\n",
    "    for token in t.tokenize(txt):\n",
    "        text_space += token.surface\n",
    "        text_space += \" \""
   ]
  },
  {
   "cell_type": "code",
   "execution_count": 3,
   "metadata": {},
   "outputs": [],
   "source": [
    "# write words with white space\n",
    "with codecs.open('files_step3/rojinto_umi_wakachi.txt', 'w', 'utf-8') as file:\n",
    "    file.write(text_space)"
   ]
  },
  {
   "cell_type": "code",
   "execution_count": 4,
   "metadata": {},
   "outputs": [],
   "source": [
    "# make Word2Vec-model\n",
    "sentences = word2vec.LineSentence('files_step3/rojinto_umi_wakachi.txt')\n",
    "model = word2vec.Word2Vec(sentences, sg=1, min_count=1, window=10, hs=1, negative=0)\n",
    "model.save('files_step3/rojinto.model')"
   ]
  },
  {
   "cell_type": "code",
   "execution_count": 5,
   "metadata": {},
   "outputs": [
    {
     "data": {
      "text/plain": [
       "[('苦しい', 0.956581711769104),\n",
       " ('泥棒', 0.9515978693962097),\n",
       " ('足場', 0.9322174787521362),\n",
       " ('でかく', 0.9305958151817322),\n",
       " ('ウミツバメ', 0.925966203212738),\n",
       " ('あらためる', 0.9244188070297241),\n",
       " ('果て', 0.9226533770561218),\n",
       " ('止める', 0.9221464395523071),\n",
       " ('華奢', 0.9205276966094971),\n",
       " ('サシ', 0.9079899787902832)]"
      ]
     },
     "execution_count": 5,
     "metadata": {},
     "output_type": "execute_result"
    }
   ],
   "source": [
    "# model-load and calculating similarity(extract similar words)\n",
    "model = word2vec.Word2Vec.load(\"files_step3/rojinto.model\")\n",
    "model.wv.most_similar(positive=\"人生\", topn=10)"
   ]
  },
  {
   "cell_type": "code",
   "execution_count": 6,
   "metadata": {},
   "outputs": [
    {
     "data": {
      "text/plain": [
       "array([-0.06262989,  0.02497503, -0.00159398,  0.01280021,  0.02131977,\n",
       "        0.02400447,  0.08850189,  0.08479664, -0.00423636, -0.01855074,\n",
       "       -0.01055895, -0.02631591,  0.03277902, -0.02940727,  0.05258898,\n",
       "       -0.03524705,  0.05103374, -0.00548657, -0.01899974, -0.0782048 ,\n",
       "        0.05542488, -0.02301252,  0.06187632, -0.02378126, -0.04513977,\n",
       "        0.02458111, -0.0610113 , -0.04628059,  0.0247579 ,  0.01617802,\n",
       "       -0.0048504 ,  0.007612  ,  0.06006272,  0.03131585,  0.01584926,\n",
       "        0.11640617, -0.01324103,  0.03484522, -0.01126686, -0.08054078,\n",
       "        0.12347233, -0.05761629, -0.02595649,  0.00515906,  0.01060223,\n",
       "        0.07325001, -0.0241658 , -0.03412157, -0.00455188,  0.02264762,\n",
       "       -0.00586422, -0.05499817, -0.0325208 , -0.00792933, -0.02784326,\n",
       "        0.00854484,  0.07040786,  0.02196097, -0.03643253,  0.01013209,\n",
       "       -0.0420618 , -0.05090953,  0.03771608, -0.01980529, -0.01553718,\n",
       "        0.02345714, -0.02611091,  0.11836785, -0.06609423,  0.05880242,\n",
       "       -0.00387403,  0.01651803,  0.02355324,  0.04559749,  0.0613159 ,\n",
       "        0.02194783,  0.05527385,  0.03540646, -0.02379684,  0.02712383,\n",
       "       -0.08104012, -0.03983632, -0.09186176,  0.02083151, -0.03081681,\n",
       "       -0.04259427,  0.00637291,  0.00488733,  0.01969053,  0.07231845,\n",
       "        0.1334334 ,  0.06954895, -0.01063727,  0.06828177,  0.0620751 ,\n",
       "        0.06123637, -0.0234868 , -0.01029407,  0.01821229, -0.00471207],\n",
       "      dtype=float32)"
      ]
     },
     "execution_count": 6,
     "metadata": {},
     "output_type": "execute_result"
    }
   ],
   "source": [
    "model.wv[\"人生\"]"
   ]
  },
  {
   "cell_type": "code",
   "execution_count": null,
   "metadata": {},
   "outputs": [],
   "source": []
  }
 ],
 "metadata": {
  "kernelspec": {
   "display_name": "Python 3 (ipykernel)",
   "language": "python",
   "name": "python3"
  },
  "language_info": {
   "codemirror_mode": {
    "name": "ipython",
    "version": 3
   },
   "file_extension": ".py",
   "mimetype": "text/x-python",
   "name": "python",
   "nbconvert_exporter": "python",
   "pygments_lexer": "ipython3",
   "version": "3.11.2"
  }
 },
 "nbformat": 4,
 "nbformat_minor": 2
}
