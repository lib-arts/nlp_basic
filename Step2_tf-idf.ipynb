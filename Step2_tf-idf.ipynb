{
 "cells": [
  {
   "cell_type": "code",
   "execution_count": 1,
   "metadata": {},
   "outputs": [],
   "source": [
    "\"\"\"\n",
    "参考リスト\n",
    "http://scikit-learn.org/stable/modules/feature_extraction.html#text-feature-extraction\n",
    "-> scikit-learnの公式UserGuideの4.2.3、情報が豊富\n",
    "\"\"\"\n",
    "from sklearn.feature_extraction.text import CountVectorizer\n",
    "from sklearn.feature_extraction.text import TfidfTransformer"
   ]
  },
  {
   "cell_type": "code",
   "execution_count": 2,
   "metadata": {},
   "outputs": [
    {
     "name": "stdout",
     "output_type": "stream",
     "text": [
      "CountVectorizer()\n"
     ]
    }
   ],
   "source": [
    "# CountVectrizerクラス\n",
    "vectorizer = CountVectorizer()\n",
    "print(vectorizer)"
   ]
  },
  {
   "cell_type": "code",
   "execution_count": 3,
   "metadata": {},
   "outputs": [
    {
     "name": "stdout",
     "output_type": "stream",
     "text": [
      "<class 'list'>\n",
      "<class 'scipy.sparse._csr.csr_matrix'>\n",
      "[[0 1 1 1 0 0 0 1 0 1 0]\n",
      " [0 1 0 1 0 0 2 1 0 1 0]\n",
      " [1 0 0 0 0 1 0 1 1 0 0]\n",
      " [0 1 1 2 1 0 0 1 0 1 1]]\n",
      "<class 'numpy.ndarray'>\n"
     ]
    }
   ],
   "source": [
    "corpus = [\n",
    "    'This is the first document.',\n",
    "    'This is the second second document.',\n",
    "    'And the third one.',\n",
    "    'Is this the first document? Yes it is.',\n",
    "]\n",
    "X = vectorizer.fit_transform(corpus)\n",
    "\n",
    "print(type(corpus))\n",
    "print(type(X))\n",
    "print(X.toarray())\n",
    "print(type(X.toarray()))"
   ]
  },
  {
   "cell_type": "code",
   "execution_count": 4,
   "metadata": {
    "scrolled": true
   },
   "outputs": [
    {
     "name": "stdout",
     "output_type": "stream",
     "text": [
      "['and' 'document' 'first' 'is' 'it' 'one' 'second' 'the' 'third' 'this'\n",
      " 'yes']\n"
     ]
    }
   ],
   "source": [
    "print(vectorizer.get_feature_names_out())"
   ]
  },
  {
   "cell_type": "code",
   "execution_count": 5,
   "metadata": {},
   "outputs": [
    {
     "name": "stdout",
     "output_type": "stream",
     "text": [
      "[[0.    1.223 1.511 1.223 0.    0.    0.    1.    0.    1.223 0.   ]\n",
      " [0.    1.223 0.    1.223 0.    0.    3.833 1.    0.    1.223 0.   ]\n",
      " [1.916 0.    0.    0.    0.    1.916 0.    1.    1.916 0.    0.   ]\n",
      " [0.    1.223 1.511 2.446 1.916 0.    0.    1.    0.    1.223 1.916]]\n",
      "  (0, 9)\t1.2231435513142097\n",
      "  (0, 7)\t1.0\n",
      "  (0, 3)\t1.2231435513142097\n",
      "  (0, 2)\t1.5108256237659907\n",
      "  (0, 1)\t1.2231435513142097\n",
      "  (1, 9)\t1.2231435513142097\n",
      "  (1, 7)\t1.0\n",
      "  (1, 6)\t3.83258146374831\n",
      "  (1, 3)\t1.2231435513142097\n",
      "  (1, 1)\t1.2231435513142097\n",
      "  (2, 8)\t1.916290731874155\n",
      "  (2, 7)\t1.0\n",
      "  (2, 5)\t1.916290731874155\n",
      "  (2, 0)\t1.916290731874155\n",
      "  (3, 10)\t1.916290731874155\n",
      "  (3, 9)\t1.2231435513142097\n",
      "  (3, 7)\t1.0\n",
      "  (3, 4)\t1.916290731874155\n",
      "  (3, 3)\t2.4462871026284194\n",
      "  (3, 2)\t1.5108256237659907\n",
      "  (3, 1)\t1.2231435513142097\n"
     ]
    }
   ],
   "source": [
    "import numpy as np\n",
    "np.set_printoptions(precision=3)\n",
    "\n",
    "transformer = TfidfTransformer(norm=None)\n",
    "tfidf = transformer.fit_transform(X)\n",
    "\n",
    "print(tfidf.toarray())\n",
    "print(tfidf)"
   ]
  },
  {
   "cell_type": "code",
   "execution_count": 6,
   "metadata": {},
   "outputs": [
    {
     "name": "stdout",
     "output_type": "stream",
     "text": [
      "1.0\n",
      "1.2231435513142097\n",
      "1.5108256237659907\n",
      "1.916290731874155\n"
     ]
    }
   ],
   "source": [
    "import numpy as np\n",
    "\n",
    "print(np.log((4.+1.)/(4.+1.)) + 1)\n",
    "print(np.log((4.+1.)/(3.+1.)) + 1)\n",
    "print(np.log((4.+1.)/(2.+1.)) + 1)\n",
    "print(np.log((4.+1.)/(1.+1.)) + 1)"
   ]
  },
  {
   "cell_type": "code",
   "execution_count": null,
   "metadata": {},
   "outputs": [],
   "source": []
  }
 ],
 "metadata": {
  "kernelspec": {
   "display_name": "Python 3 (ipykernel)",
   "language": "python",
   "name": "python3"
  },
  "language_info": {
   "codemirror_mode": {
    "name": "ipython",
    "version": 3
   },
   "file_extension": ".py",
   "mimetype": "text/x-python",
   "name": "python",
   "nbconvert_exporter": "python",
   "pygments_lexer": "ipython3",
   "version": "3.11.2"
  }
 },
 "nbformat": 4,
 "nbformat_minor": 2
}
