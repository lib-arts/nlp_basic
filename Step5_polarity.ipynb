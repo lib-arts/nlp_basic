{
 "cells": [
  {
   "cell_type": "code",
   "execution_count": 1,
   "metadata": {},
   "outputs": [],
   "source": [
    "\"\"\"\n",
    "参考リスト\n",
    "http://mocobeta.github.io/janome/\n",
    "-> Janomeの公式ドキュメント、用法が載っている\n",
    "http://www.lr.pi.titech.ac.jp/~takamura/pubs/pn_ja.dic\n",
    "-> 極性辞書の出展\n",
    "\"\"\"\n",
    "import codecs\n",
    "from janome.tokenizer import Tokenizer"
   ]
  },
  {
   "cell_type": "code",
   "execution_count": 2,
   "metadata": {},
   "outputs": [],
   "source": [
    "# 極性辞書の作成\n",
    "dict_polarity = {}\n",
    "\n",
    "with codecs.open('./files_step5/polarity.txt', 'r', 'utf-8') as f:\n",
    "    line = f.read()\n",
    "    lines = line.split('\\n')\n",
    "    for i in range(len(lines)-1):\n",
    "        line_components = lines[i].split(':')\n",
    "        dict_polarity[line_components[0]] = line_components[3]"
   ]
  },
  {
   "cell_type": "code",
   "execution_count": 3,
   "metadata": {},
   "outputs": [],
   "source": [
    "# ネガポジ分析用の関数の作成\n",
    "def judge_polarity(text):\n",
    "    t = Tokenizer()\n",
    "    tokens = t.tokenize(text)\n",
    "    pol_val = 0\n",
    "    for token in tokens:\n",
    "        word = token.surface\n",
    "        pos = token.part_of_speech.split(',')[0]\n",
    "        if word in dict_polarity:\n",
    "            pol_val = pol_val + float(dict_polarity[word])\n",
    "        \n",
    "    if pol_val > 0.3:\n",
    "        print(\"Positive. Score：\"+str(pol_val))\n",
    "    elif pol_val < -0.3:\n",
    "        print(\"Negative. Score：\"+str(pol_val))\n",
    "    else:\n",
    "        print(\"Neutral. Score：\"+str(pol_val))"
   ]
  },
  {
   "cell_type": "code",
   "execution_count": 4,
   "metadata": {},
   "outputs": [
    {
     "name": "stdout",
     "output_type": "stream",
     "text": [
      "Positive. Score：2.905855\n"
     ]
    }
   ],
   "source": [
    "judge_polarity(\"気品溢れる英傑\")"
   ]
  },
  {
   "cell_type": "code",
   "execution_count": 5,
   "metadata": {},
   "outputs": [
    {
     "name": "stdout",
     "output_type": "stream",
     "text": [
      "Negative. Score：-2.676716\n"
     ]
    }
   ],
   "source": [
    "judge_polarity(\"不遇の境遇を嘆く\")"
   ]
  },
  {
   "cell_type": "code",
   "execution_count": 6,
   "metadata": {},
   "outputs": [
    {
     "name": "stdout",
     "output_type": "stream",
     "text": [
      "Neutral. Score：0\n"
     ]
    }
   ],
   "source": [
    "judge_polarity(\"普通\")"
   ]
  },
  {
   "cell_type": "code",
   "execution_count": null,
   "metadata": {},
   "outputs": [],
   "source": []
  }
 ],
 "metadata": {
  "kernelspec": {
   "display_name": "Python 3 (ipykernel)",
   "language": "python",
   "name": "python3"
  },
  "language_info": {
   "codemirror_mode": {
    "name": "ipython",
    "version": 3
   },
   "file_extension": ".py",
   "mimetype": "text/x-python",
   "name": "python",
   "nbconvert_exporter": "python",
   "pygments_lexer": "ipython3",
   "version": "3.11.2"
  }
 },
 "nbformat": 4,
 "nbformat_minor": 2
}
