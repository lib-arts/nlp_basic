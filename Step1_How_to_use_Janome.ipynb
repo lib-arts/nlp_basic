{
 "cells": [
  {
   "cell_type": "code",
   "execution_count": 1,
   "metadata": {},
   "outputs": [],
   "source": [
    "\"\"\"\n",
    "参考リスト\n",
    "http://mocobeta.github.io/janome/\n",
    "-> Janomeの公式ドキュメント、用法が載っている\n",
    "https://github.com/mocobeta/janome\n",
    "-> Janomeのリポジトリ\n",
    "\"\"\"\n",
    "from janome.tokenizer import Tokenizer"
   ]
  },
  {
   "cell_type": "code",
   "execution_count": 2,
   "metadata": {},
   "outputs": [
    {
     "name": "stdout",
     "output_type": "stream",
     "text": [
      "すもも\t名詞,一般,*,*,*,*,すもも,スモモ,スモモ\n",
      "も\t助詞,係助詞,*,*,*,*,も,モ,モ\n",
      "もも\t名詞,一般,*,*,*,*,もも,モモ,モモ\n",
      "も\t助詞,係助詞,*,*,*,*,も,モ,モ\n",
      "もも\t名詞,一般,*,*,*,*,もも,モモ,モモ\n",
      "の\t助詞,連体化,*,*,*,*,の,ノ,ノ\n",
      "うち\t名詞,非自立,副詞可能,*,*,*,うち,ウチ,ウチ\n"
     ]
    }
   ],
   "source": [
    "# 簡単な使用方法\n",
    "t = Tokenizer()\n",
    "for token in t.tokenize(u'すもももももももものうち'):\n",
    "    print(token)"
   ]
  },
  {
   "cell_type": "code",
   "execution_count": 3,
   "metadata": {},
   "outputs": [
    {
     "name": "stdout",
     "output_type": "stream",
     "text": [
      "<generator object Tokenizer.__tokenize_stream at 0x104ea6640>\n"
     ]
    }
   ],
   "source": [
    "# 分かち書きモードでの実行\n",
    "t = Tokenizer()\n",
    "tokens = t.tokenize(u'すもももももももものうち', wakati=True)\n",
    "print(tokens)"
   ]
  },
  {
   "cell_type": "code",
   "execution_count": 4,
   "metadata": {},
   "outputs": [
    {
     "name": "stdout",
     "output_type": "stream",
     "text": [
      "すもも\n",
      "もも\n",
      "もも\n",
      "うち\n"
     ]
    }
   ],
   "source": [
    "# 名詞のみ抽出\n",
    "t = Tokenizer()\n",
    "for token in t.tokenize(u'すもももももももものうち'):\n",
    "    if token.part_of_speech.split(',')[0] == '名詞':\n",
    "        print(token.surface)"
   ]
  },
  {
   "cell_type": "code",
   "execution_count": 5,
   "metadata": {},
   "outputs": [
    {
     "name": "stdout",
     "output_type": "stream",
     "text": [
      "名詞,一般,*,*\n",
      "助詞,係助詞,*,*\n",
      "名詞,一般,*,*\n",
      "助詞,係助詞,*,*\n",
      "名詞,一般,*,*\n",
      "助詞,連体化,*,*\n",
      "名詞,非自立,副詞可能,*\n"
     ]
    }
   ],
   "source": [
    "# 名詞のみ抽出\n",
    "t = Tokenizer()\n",
    "for token in t.tokenize(u'すもももももももものうち'):\n",
    "    print(token.part_of_speech)"
   ]
  },
  {
   "cell_type": "code",
   "execution_count": 6,
   "metadata": {
    "scrolled": true
   },
   "outputs": [
    {
     "name": "stdout",
     "output_type": "stream",
     "text": [
      "東京スカイツリー\t名詞,固有名詞,一般,*,*,*,東京スカイツリー,トウキョウスカイツリー,トウキョウスカイツリー\n",
      "へ\t助詞,格助詞,一般,*,*,*,へ,ヘ,エ\n",
      "の\t助詞,連体化,*,*,*,*,の,ノ,ノ\n",
      "お越し\t名詞,一般,*,*,*,*,お越し,オコシ,オコシ\n",
      "は\t助詞,係助詞,*,*,*,*,は,ハ,ワ\n",
      "、\t記号,読点,*,*,*,*,、,、,、\n",
      "東武スカイツリーライン\t名詞,固有名詞,一般,*,*,*,東武スカイツリーライン,トウブスカイツリーライン,トウブスカイツリーライン\n",
      "「\t記号,括弧開,*,*,*,*,「,「,「\n",
      "とうきょうスカイツリー駅\t名詞,固有名詞,一般,*,*,*,とうきょうスカイツリー駅,トウキョウスカイツリーエキ,トウキョウスカイツリーエキ\n",
      "」\t記号,括弧閉,*,*,*,*,」,」,」\n",
      "が\t助詞,格助詞,一般,*,*,*,が,ガ,ガ\n",
      "便利\t名詞,形容動詞語幹,*,*,*,*,便利,ベンリ,ベンリ\n",
      "です\t助動詞,*,*,*,特殊・デス,基本形,です,デス,デス\n",
      "。\t記号,句点,*,*,*,*,。,。,。\n"
     ]
    }
   ],
   "source": [
    "# ユーザ辞書の導入\n",
    "t = Tokenizer(\"files_step1/userdic.csv\", udic_enc=\"utf8\")\n",
    "#t = Tokenizer()\n",
    "\n",
    "for token in t.tokenize(u'東京スカイツリーへのお越しは、東武スカイツリーライン「とうきょうスカイツリー駅」が便利です。'):\n",
    "    print(token)"
   ]
  },
  {
   "cell_type": "code",
   "execution_count": null,
   "metadata": {},
   "outputs": [],
   "source": []
  }
 ],
 "metadata": {
  "kernelspec": {
   "display_name": "Python 3 (ipykernel)",
   "language": "python",
   "name": "python3"
  },
  "language_info": {
   "codemirror_mode": {
    "name": "ipython",
    "version": 3
   },
   "file_extension": ".py",
   "mimetype": "text/x-python",
   "name": "python",
   "nbconvert_exporter": "python",
   "pygments_lexer": "ipython3",
   "version": "3.11.2"
  }
 },
 "nbformat": 4,
 "nbformat_minor": 2
}
